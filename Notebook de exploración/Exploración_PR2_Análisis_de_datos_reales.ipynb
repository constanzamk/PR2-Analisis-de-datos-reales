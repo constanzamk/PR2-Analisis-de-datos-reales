{
  "nbformat": 4,
  "nbformat_minor": 0,
  "metadata": {
    "colab": {
      "name": "Exploración - PR2 - Análisis de datos reales",
      "provenance": []
    },
    "kernelspec": {
      "name": "python3",
      "display_name": "Python 3"
    },
    "language_info": {
      "name": "python"
    }
  },
  "cells": [
    {
      "cell_type": "code",
      "execution_count": null,
      "metadata": {
        "id": "O_YeCnDrJeg_"
      },
      "outputs": [],
      "source": [
        ""
      ]
    }
  ]
}